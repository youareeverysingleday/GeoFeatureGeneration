{
 "cells": [
  {
   "cell_type": "markdown",
   "id": "1157d222",
   "metadata": {},
   "source": [
    "# Trajectory Generation\n",
    "\n",
    "最重要的步骤是将 transbigdata 生成的区域编号映射到一个合理的范围。"
   ]
  },
  {
   "cell_type": "code",
   "execution_count": 1,
   "id": "47c01fe8",
   "metadata": {},
   "outputs": [
    {
     "name": "stdout",
     "output_type": "stream",
     "text": [
      "hello world\n"
     ]
    }
   ],
   "source": [
    "import transbigdata as tbd\n",
    "import pandas as pd\n",
    "import numpy as np\n",
    "\n",
    "print('hello world')"
   ]
  },
  {
   "cell_type": "code",
   "execution_count": null,
   "id": "b6619f34",
   "metadata": {},
   "outputs": [],
   "source": [
    "gParameters = cc.JSONConfig('./Parameters.json')"
   ]
  }
 ],
 "metadata": {
  "kernelspec": {
   "display_name": "Python 3",
   "language": "python",
   "name": "python3"
  },
  "language_info": {
   "codemirror_mode": {
    "name": "ipython",
    "version": 3
   },
   "file_extension": ".py",
   "mimetype": "text/x-python",
   "name": "python",
   "nbconvert_exporter": "python",
   "pygments_lexer": "ipython3",
   "version": "3.9.13"
  }
 },
 "nbformat": 4,
 "nbformat_minor": 5
}
