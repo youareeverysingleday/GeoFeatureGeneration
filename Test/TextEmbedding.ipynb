{
 "cells": [
  {
   "cell_type": "markdown",
   "metadata": {},
   "source": [
    "需要通过pip install sentence_transformers 和 pip install tf-keras 之后才能使用。\n",
    "\n",
    "目前在 python 3.11 上能够使用。"
   ]
  },
  {
   "cell_type": "code",
   "execution_count": null,
   "metadata": {},
   "outputs": [
    {
     "name": "stdout",
     "output_type": "stream",
     "text": [
      "tensor([[1.0000, 0.9186, 0.9693, 0.9588, 0.9432],\n",
      "        [0.9186, 1.0000, 0.9776, 0.9820, 0.9429],\n",
      "        [0.9693, 0.9776, 1.0000, 0.9904, 0.9638],\n",
      "        [0.9588, 0.9820, 0.9904, 1.0000, 0.9602],\n",
      "        [0.9432, 0.9429, 0.9638, 0.9602, 1.0000]])\n",
      "tensor([[ 1.0000e+00,  8.8974e-01,  8.5920e-01,  8.6115e-01,  8.6606e-01,\n",
      "         -7.5258e-03],\n",
      "        [ 8.8974e-01,  1.0000e+00,  9.5187e-01,  9.8021e-01,  9.4659e-01,\n",
      "          9.1412e-03],\n",
      "        [ 8.5920e-01,  9.5187e-01,  1.0000e+00,  9.5161e-01,  9.5852e-01,\n",
      "          1.9804e-02],\n",
      "        [ 8.6115e-01,  9.8021e-01,  9.5161e-01,  1.0000e+00,  9.3956e-01,\n",
      "          1.5389e-02],\n",
      "        [ 8.6606e-01,  9.4659e-01,  9.5852e-01,  9.3956e-01,  1.0000e+00,\n",
      "          2.0397e-04],\n",
      "        [-7.5258e-03,  9.1412e-03,  1.9804e-02,  1.5389e-02,  2.0397e-04,\n",
      "          1.0000e+00]])\n"
     ]
    }
   ],
   "source": [
    "from sentence_transformers import SentenceTransformer, util\n",
    "\n",
    "# 加载多语言模型\n",
    "model = SentenceTransformer('sentence-transformers/distiluse-base-multilingual-cased-v2')\n",
    "\n",
    "# 相同语义的句子，不同语言\n",
    "sentences = [\n",
    "    \"这是一个测试\",          # 中文\n",
    "    \"This is a test\",         # 英语\n",
    "    \"Ceci est un test\",       # 法语\n",
    "    \"Dies ist ein Test\",      # 德语\n",
    "    \"Esto es una prueba\"      # 西班牙语\n",
    "]\n",
    "\n",
    "sentences2 = [\n",
    "    \"中国上海市嘉定区曹安公路4800号同济大学计算机科学与技术学院\",          # 中文\n",
    "    \"College of Computer Science and Technology, Tongji University, No. 4800 Cao'an Road, Jiading District, Shanghai, China\",         # 英语\n",
    "    \"École d'informatique et de technologie, Université Tongji, 4800 CAO'an Road, Jiading District, Shanghai, Chine\",       # 法语\n",
    "    \"Hochschule für Informatik und Technologie, Tongji Universität, No. 4800 Cao'an Road, Jiading District, Shanghai, China\",      # 德语\n",
    "    \"Escuela de informática y tecnología de la Universidad de tongji, 4800 Cao 'an road, Distrito de jiading, shanghai, China\",      # 西班牙语\n",
    "    \"可以直接显 示地图，或者 将其保存为 HTML  文件： 也可以将 Folium 地图直接\"\n",
    "]\n",
    "\n",
    "# 生成嵌入向量\n",
    "embeddings = model.encode(sentences)\n",
    "\n",
    "# 计算余弦相似度\n",
    "cosine_scores = util.cos_sim(embeddings, embeddings)\n",
    "\n",
    "# 打印相似性矩阵\n",
    "print(cosine_scores)\n",
    "\n",
    "\n",
    "# 生成嵌入向量\n",
    "embeddings2 = model.encode(sentences2)\n",
    "print(embeddings2)\n",
    "# 计算余弦相似度\n",
    "cosine_scores2 = util.cos_sim(embeddings2, embeddings2)\n",
    "# 打印相似性矩阵\n",
    "print(cosine_scores2)"
   ]
  },
  {
   "cell_type": "code",
   "execution_count": 5,
   "metadata": {},
   "outputs": [
    {
     "name": "stdout",
     "output_type": "stream",
     "text": [
      "[[-0.03408041  0.03433289 -0.00223739 ...  0.031683    0.00882112\n",
      "  -0.04098079]\n",
      " [-0.03879516  0.03193012 -0.02368016 ...  0.03947248 -0.00174282\n",
      "  -0.09043649]\n",
      " [-0.02991727  0.04094869 -0.02168417 ...  0.04520631  0.01282056\n",
      "  -0.08265157]\n",
      " [-0.04473569  0.05029416 -0.01924778 ...  0.04716873  0.00483949\n",
      "  -0.0763712 ]\n",
      " [-0.03612681  0.05409142 -0.01913831 ...  0.03232886  0.00961217\n",
      "  -0.07207566]\n",
      " [ 0.0380998   0.0079324   0.02009067 ...  0.03103909 -0.04020486\n",
      "  -0.02380564]]\n"
     ]
    }
   ],
   "source": [
    "print(embeddings2)"
   ]
  }
 ],
 "metadata": {
  "kernelspec": {
   "display_name": "base",
   "language": "python",
   "name": "python3"
  },
  "language_info": {
   "codemirror_mode": {
    "name": "ipython",
    "version": 3
   },
   "file_extension": ".py",
   "mimetype": "text/x-python",
   "name": "python",
   "nbconvert_exporter": "python",
   "pygments_lexer": "ipython3",
   "version": "3.11.7"
  }
 },
 "nbformat": 4,
 "nbformat_minor": 2
}
