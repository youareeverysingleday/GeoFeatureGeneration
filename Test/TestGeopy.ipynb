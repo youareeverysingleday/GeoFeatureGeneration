{
 "cells": [
  {
   "cell_type": "code",
   "execution_count": 5,
   "metadata": {},
   "outputs": [
    {
     "name": "stdout",
     "output_type": "stream",
     "text": [
      "Naturalizer, 7, West 34th Street, Midtown South, Manhattan, New York County, City of New York, New York, 10001, United States\n"
     ]
    }
   ],
   "source": [
    "import geopy\n",
    "from geopy.geocoders import Nominatim\n",
    "\n",
    "# HongKong's internet network is neccessary.\n",
    "# and must set user_agent is \"http\".\n",
    "\n",
    "geolocator = Nominatim(user_agent=\"http\")\n",
    "# 115.53948146456568,39.63641020291629\n",
    "\n",
    "# latitude = \"40.748817\"\n",
    "# longitude = \"-73.985428\"\n",
    "\n",
    "latitude = \"39.63641020291629\"\n",
    "longitude = \"115.53948146456568\"\n",
    "\n",
    "location = geolocator.reverse(f\"{latitude}, {longitude}\")\n",
    "\n",
    "print(location.address)"
   ]
  }
 ],
 "metadata": {
  "kernelspec": {
   "display_name": "base",
   "language": "python",
   "name": "python3"
  },
  "language_info": {
   "codemirror_mode": {
    "name": "ipython",
    "version": 3
   },
   "file_extension": ".py",
   "mimetype": "text/x-python",
   "name": "python",
   "nbconvert_exporter": "python",
   "pygments_lexer": "ipython3",
   "version": "3.11.7"
  }
 },
 "nbformat": 4,
 "nbformat_minor": 2
}
