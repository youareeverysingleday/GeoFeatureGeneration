{
 "cells": [
  {
   "cell_type": "code",
   "execution_count": 18,
   "metadata": {},
   "outputs": [
    {
     "name": "stdout",
     "output_type": "stream",
     "text": [
      "(52, 128, 3)\n"
     ]
    }
   ],
   "source": [
    "import pandas as pd\n",
    "\n",
    "def drop_all_0_row(df):\n",
    "    # x1 = df[(df==0).all(axis=1)]\n",
    "    # x2 = \n",
    "    return df.drop(index=df[(df==0).all(axis=1)].index)\n",
    "\n",
    "stay = pd.read_csv('../Data/Output/Stay/153.csv', index_col=0)\n",
    "stay['stime'] = pd.to_datetime(stay['stime'])\n",
    "\n",
    "# stay.head()\n",
    "\n",
    "stay['stimestamp'] = stay['stime'].astype('int64') // 1e9\n",
    "# stay.head()\n",
    "\n",
    "s1 = stay.groupby(pd.Grouper(key='stime', freq='M'))\n",
    "\n",
    "# import datetime\n",
    "import numpy as np\n",
    "\n",
    "i = 0\n",
    "\n",
    "maxrow = 128\n",
    "\n",
    "result = np.empty((0, 128, 3))\n",
    "# print(result.shape)\n",
    "\n",
    "for g in s1:\n",
    "    key = g[0].month\n",
    "    # print(type(key))\n",
    "    # .to_list()\n",
    "    value = g[1][['grid', 'stimestamp', 'duration']].values\n",
    "    \n",
    "    # value.dropna(axis=0, how='all', inplace=True)\n",
    "    value = value[value.sum(axis=1)!=0,:]\n",
    "    # 如果行数为0，也就是说没有轨迹点。那么就跳过。\n",
    "    if value.shape[0] == 0:\n",
    "        continue\n",
    "    # 将轨迹填充为相同的形状。\n",
    "    if value.shape[0] > maxrow:\n",
    "        continue\n",
    "    else:\n",
    "        value = np.pad(array=value, pad_width=((0,maxrow-value.shape[0]),(0,0)), mode='constant')\n",
    "    \n",
    "    # print(value.shape)\n",
    "    # print(result.shape)\n",
    "    # d = np.concatenate((a[np.newaxis,:], b[np.newaxis,:]), axis=0)\n",
    "    result = np.concatenate((result, value[np.newaxis,:]), axis=0)\n",
    "    # if i < 2:\n",
    "        \n",
    "    #     print(value)\n",
    "    #     i += 1\n",
    "    # print(type(value))\n",
    "    # output type is <class 'numpy.ndarray'>\n",
    "    # np.set_printoptions(suppress=True)\n",
    "    # print(value)\n",
    "\n",
    "a2d = result.reshape(result.shape[0], -1)\n",
    "# np.savetxt('{}.csv'.format(153), a2d, delimiter=\",\" )\n",
    "import csv\n",
    "with open(\"output.csv\", \"w\", newline=\"\") as f:\n",
    "    writer = csv.writer(f)\n",
    "    writer.writerows(a2d)\n",
    "print(result.shape)"
   ]
  },
  {
   "cell_type": "code",
   "execution_count": 21,
   "metadata": {},
   "outputs": [
    {
     "name": "stdout",
     "output_type": "stream",
     "text": [
      "(52, 128, 3)\n"
     ]
    }
   ],
   "source": [
    "import csv\n",
    "import numpy as np\n",
    "\n",
    "# 从csv文件读取2D数组\n",
    "with open(\"output.csv\", \"r\") as f:\n",
    "    reader = csv.reader(f)\n",
    "    a2d = np.array(list(reader)).astype(\"float\")\n",
    "\n",
    "# 将2D数组转换为3D数组\n",
    "a = a2d.reshape(-1, 128, 3)\n",
    "print(a.shape)"
   ]
  },
  {
   "cell_type": "code",
   "execution_count": null,
   "metadata": {},
   "outputs": [],
   "source": [
    "import pandas as pd\n",
    "\n",
    "def drop_all_0_row(df):\n",
    "    # x1 = df[(df==0).all(axis=1)]\n",
    "    # x2 = \n",
    "    return df.drop(index=df[(df==0).all(axis=1)].index)\n",
    "\n",
    "def tte(user):\n",
    "    stay = pd.read_csv('./Data/Output/Stay/{}.csv'.format(user), index_col=0)\n",
    "    stay['stime'] = pd.to_datetime(stay['stime'])\n",
    "    s1 = stay.groupby(pd.Grouper(key='stime', freq='M'))\n",
    "\n",
    "    gridList = []\n",
    "    for g in s1:\n",
    "        key = g[0].month\n",
    "        # print(type(key))\n",
    "        value = g[1]['grid'].to_list()\n",
    "        gridList.append(value)\n",
    "        # print(key)\n",
    "        # print(value)\n",
    "    gridpd = pd.DataFrame(gridList)\n",
    "    gridpd = drop_all_0_row(gridpd)\n",
    "    gridpd.dropna(axis=0, how='all', inplace=True)\n",
    "    print(gridpd.shape)\n",
    "    return gridpd"
   ]
  }
 ],
 "metadata": {
  "kernelspec": {
   "display_name": "Python 3",
   "language": "python",
   "name": "python3"
  },
  "language_info": {
   "codemirror_mode": {
    "name": "ipython",
    "version": 3
   },
   "file_extension": ".py",
   "mimetype": "text/x-python",
   "name": "python",
   "nbconvert_exporter": "python",
   "pygments_lexer": "ipython3",
   "version": "3.9.13"
  }
 },
 "nbformat": 4,
 "nbformat_minor": 2
}
