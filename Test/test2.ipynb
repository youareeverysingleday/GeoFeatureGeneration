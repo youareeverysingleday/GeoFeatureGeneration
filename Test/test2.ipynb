{
 "cells": [
  {
   "cell_type": "code",
   "execution_count": 1,
   "metadata": {},
   "outputs": [
    {
     "name": "stdout",
     "output_type": "stream",
     "text": [
      "Index(['userID', 'stime', 'grid', 'etime', 'lon', 'lat', 'duration', 'stayid'], dtype='object')\n"
     ]
    }
   ],
   "source": [
    "import pandas as pd\n",
    "import numpy as np\n",
    "import datetime\n",
    "\n",
    "import GeoFeatureGeneration as gfg\n",
    "\n",
    "def drop_all_0_row(df):\n",
    "    # x1 = df[(df==0).all(axis=1)]\n",
    "    # x2 = \n",
    "    return df.drop(index=df[(df==0).all(axis=1)].index)\n",
    "\n",
    "stay = pd.read_csv('./Data/Output/Stay/153.csv', index_col=0)\n",
    "stay['stime'] = pd.to_datetime(stay['stime'])\n",
    "print(stay.columns)"
   ]
  },
  {
   "cell_type": "code",
   "execution_count": 3,
   "metadata": {},
   "outputs": [
    {
     "name": "stdout",
     "output_type": "stream",
     "text": [
      "Index(['userID', 'stime', 'grid', 'etime', 'lon', 'lat', 'duration', 'stayid',\n",
      "       '0.0', '1.0', '2.0', '3.0', '4.0', '5.0', '6.0', '7.0', '8.0', '9.0',\n",
      "       '10.0', '11.0', '12.0', '13.0'],\n",
      "      dtype='object')\n"
     ]
    }
   ],
   "source": [
    "gFeaturePath = './Data/Output/MultipleFeatures/PoIFeature.csv'\n",
    "PoIFeature = pd.read_csv(gFeaturePath, index_col=0)\n",
    "PoIFeature['grid'] = PoIFeature.index\n",
    "\n",
    "stay = stay.merge(PoIFeature, on='grid', how='left').fillna(0)\n",
    "print(stay.columns)"
   ]
  },
  {
   "cell_type": "code",
   "execution_count": 4,
   "metadata": {},
   "outputs": [
    {
     "name": "stdout",
     "output_type": "stream",
     "text": [
      "(3258, 29)\n"
     ]
    }
   ],
   "source": [
    "stay = stay.apply(gfg.GenerateTimeFeature, col='stime', axis=1)\n",
    "# stay.head()\n",
    "\n",
    "stay['stimestamp'] = stay['stime'].astype('int64') // 1e9\n",
    "# stay.head()\n",
    "\n",
    "s1 = stay.groupby(pd.Grouper(key='stime', freq='M'))\n",
    "\n",
    "i = 0\n",
    "maxrow = 128\n",
    "print(stay.shape)\n"
   ]
  },
  {
   "cell_type": "code",
   "execution_count": 6,
   "metadata": {},
   "outputs": [
    {
     "name": "stdout",
     "output_type": "stream",
     "text": [
      "(52, 128, 29)\n"
     ]
    }
   ],
   "source": [
    "result = np.empty((0, maxrow, stay.shape[1]))\n",
    "# print(result.shape)\n",
    "\n",
    "# print(s1.shape)\n",
    "# s1 = drop_all_0_row(s1)\n",
    "# print(s1.shape)\n",
    "\n",
    "for g in s1:\n",
    "    key = g[0].month\n",
    "    # print(type(key))\n",
    "    # .to_list()\n",
    "    # value = g[1][['grid', 'stimestamp', 'duration']].values\n",
    "    # print(g[1].columns)\n",
    "    df = g[1].copy()\n",
    "\n",
    "    # print(\"before drop all 0 {}\".format(df.shape))\n",
    "    df  = drop_all_0_row(df)\n",
    "    # print(\"after drop all 0 {}\".format(df.shape))\n",
    "\n",
    "    value = df.values\n",
    "    # print(value.shape)\n",
    "    \n",
    "    # value.dropna(axis=0, how='all', inplace=True)\n",
    "    # 去除全零的行。\n",
    "    # 由于含有datetime格式的数据，所以无法使用下面的语句来去掉全零行。\n",
    "    # value = value[value.sum(axis=1)!=0,:]\n",
    "    # 如果行数为0，也就是说没有轨迹点。那么就跳过。\n",
    "    if value.shape[0] == 0:\n",
    "        continue\n",
    "    # 将轨迹填充为相同的形状。\n",
    "    if value.shape[0] > maxrow:\n",
    "        continue\n",
    "    else:\n",
    "        value = np.pad(array=value, pad_width=((0,maxrow-value.shape[0]),(0,0)), mode='constant')\n",
    "    \n",
    "    # print(\"value {}\".format(value.shape))\n",
    "    # print(result.shape)\n",
    "    # d = np.concatenate((a[np.newaxis,:], b[np.newaxis,:]), axis=0)\n",
    "    result = np.concatenate((result, value[np.newaxis,:]), axis=0)\n",
    "    # if i < 2:\n",
    "        \n",
    "    #     print(value)\n",
    "    #     i += 1\n",
    "    # print(type(value))\n",
    "    # output type is <class 'numpy.ndarray'>\n",
    "    # np.set_printoptions(suppress=True)\n",
    "    # print(value)\n",
    "print(result.shape)\n"
   ]
  },
  {
   "cell_type": "code",
   "execution_count": 9,
   "metadata": {},
   "outputs": [],
   "source": [
    "def np_3d_to_csv(data, \n",
    "                 path, \n",
    "                 datatype='float'):\n",
    "    import csv\n",
    "    a2d = data.reshape(data.shape[0], -1)\n",
    "    with open(path, \"w\", newline=\"\") as f:\n",
    "        writer = csv.writer(f)\n",
    "        writer.writerows(a2d)\n"
   ]
  },
  {
   "cell_type": "code",
   "execution_count": null,
   "metadata": {},
   "outputs": [],
   "source": [
    "np_3d_to_csv(result, \"output.csv\")"
   ]
  },
  {
   "cell_type": "code",
   "execution_count": 8,
   "metadata": {},
   "outputs": [
    {
     "name": "stdout",
     "output_type": "stream",
     "text": [
      "(52, 128, 29)\n"
     ]
    }
   ],
   "source": [
    "a2d = result.reshape(result.shape[0], -1)\n",
    "# np.savetxt('{}.csv'.format(153), a2d, delimiter=\",\" )\n",
    "import csv\n",
    "with open(\"output.csv\", \"w\", newline=\"\") as f:\n",
    "    writer = csv.writer(f)\n",
    "    writer.writerows(a2d)\n",
    "print(result.shape)"
   ]
  },
  {
   "cell_type": "code",
   "execution_count": 21,
   "metadata": {},
   "outputs": [
    {
     "name": "stdout",
     "output_type": "stream",
     "text": [
      "(52, 128, 3)\n"
     ]
    }
   ],
   "source": [
    "import csv\n",
    "import numpy as np\n",
    "\n",
    "# 从csv文件读取2D数组\n",
    "with open(\"output.csv\", \"r\") as f:\n",
    "    reader = csv.reader(f)\n",
    "    a2d = np.array(list(reader)).astype(\"float\")\n",
    "\n",
    "# 将2D数组转换为3D数组\n",
    "a = a2d.reshape(-1, 128, 3)\n",
    "print(a.shape)"
   ]
  },
  {
   "cell_type": "code",
   "execution_count": null,
   "metadata": {},
   "outputs": [],
   "source": [
    "import pandas as pd\n",
    "\n",
    "def drop_all_0_row(df):\n",
    "    # x1 = df[(df==0).all(axis=1)]\n",
    "    # x2 = \n",
    "    return df.drop(index=df[(df==0).all(axis=1)].index)\n",
    "\n",
    "def tte(user):\n",
    "    stay = pd.read_csv('./Data/Output/Stay/{}.csv'.format(user), index_col=0)\n",
    "    stay['stime'] = pd.to_datetime(stay['stime'])\n",
    "    s1 = stay.groupby(pd.Grouper(key='stime', freq='M'))\n",
    "\n",
    "    gridList = []\n",
    "    for g in s1:\n",
    "        key = g[0].month\n",
    "        # print(type(key))\n",
    "        value = g[1]['grid'].to_list()\n",
    "        gridList.append(value)\n",
    "        # print(key)\n",
    "        # print(value)\n",
    "    gridpd = pd.DataFrame(gridList)\n",
    "    gridpd = drop_all_0_row(gridpd)\n",
    "    gridpd.dropna(axis=0, how='all', inplace=True)\n",
    "    print(gridpd.shape)\n",
    "    return gridpd"
   ]
  }
 ],
 "metadata": {
  "kernelspec": {
   "display_name": "Python 3",
   "language": "python",
   "name": "python3"
  },
  "language_info": {
   "codemirror_mode": {
    "name": "ipython",
    "version": 3
   },
   "file_extension": ".py",
   "mimetype": "text/x-python",
   "name": "python",
   "nbconvert_exporter": "python",
   "pygments_lexer": "ipython3",
   "version": "3.9.13"
  }
 },
 "nbformat": 4,
 "nbformat_minor": 2
}
